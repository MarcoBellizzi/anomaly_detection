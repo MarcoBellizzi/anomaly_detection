{
 "cells": [
  {
   "cell_type": "markdown",
   "metadata": {
    "id": "CgZBA2P7KvVU"
   },
   "source": [
    "# Deep Learning project - Marco Bellizzi, Giuseppe Oliva, Domenico Spagnolo\n",
    "#### Execution time - 2 hours\n",
    "## Task 1.1 - predict next values. \n",
    "### We have 3 time series X, Y and Z and we want to predict the next values of subsequences of length 30 with a step size of 6"
   ]
  },
  {
   "cell_type": "markdown",
   "metadata": {
    "id": "YEXJTLt5euc-"
   },
   "source": [
    "### import libraries"
   ]
  },
  {
   "cell_type": "code",
   "execution_count": 1,
   "metadata": {
    "id": "56Kj_gLAJvpm"
   },
   "outputs": [],
   "source": [
    "import os\n",
    "import pandas as pd\n",
    "import numpy as np\n",
    "from tensorflow.keras import layers\n",
    "from tensorflow.keras.models import Sequential\n",
    "from tensorflow.keras.layers import LSTM\n",
    "import matplotlib.pyplot as plt"
   ]
  },
  {
   "cell_type": "markdown",
   "metadata": {
    "id": "S6lIuYHVezIK"
   },
   "source": [
    "### load and normalization"
   ]
  },
  {
   "cell_type": "code",
   "execution_count": 2,
   "metadata": {
    "colab": {
     "base_uri": "https://localhost:8080/",
     "height": 424
    },
    "id": "-xhzmvMLSHdC",
    "outputId": "59cfdf25-a970-4caf-b6e6-349f8388df6f"
   },
   "outputs": [
    {
     "data": {
      "text/html": [
       "<div>\n",
       "<style scoped>\n",
       "    .dataframe tbody tr th:only-of-type {\n",
       "        vertical-align: middle;\n",
       "    }\n",
       "\n",
       "    .dataframe tbody tr th {\n",
       "        vertical-align: top;\n",
       "    }\n",
       "\n",
       "    .dataframe thead th {\n",
       "        text-align: right;\n",
       "    }\n",
       "</style>\n",
       "<table border=\"1\" class=\"dataframe\">\n",
       "  <thead>\n",
       "    <tr style=\"text-align: right;\">\n",
       "      <th></th>\n",
       "      <th>x</th>\n",
       "      <th>y</th>\n",
       "      <th>z</th>\n",
       "    </tr>\n",
       "  </thead>\n",
       "  <tbody>\n",
       "    <tr>\n",
       "      <th>0</th>\n",
       "      <td>-0.318759</td>\n",
       "      <td>1.317360</td>\n",
       "      <td>-0.591473</td>\n",
       "    </tr>\n",
       "    <tr>\n",
       "      <th>1</th>\n",
       "      <td>-0.688905</td>\n",
       "      <td>1.621573</td>\n",
       "      <td>0.454343</td>\n",
       "    </tr>\n",
       "    <tr>\n",
       "      <th>2</th>\n",
       "      <td>-0.552642</td>\n",
       "      <td>1.340891</td>\n",
       "      <td>-0.500452</td>\n",
       "    </tr>\n",
       "    <tr>\n",
       "      <th>3</th>\n",
       "      <td>-1.292934</td>\n",
       "      <td>0.799694</td>\n",
       "      <td>-0.463301</td>\n",
       "    </tr>\n",
       "    <tr>\n",
       "      <th>4</th>\n",
       "      <td>-0.835336</td>\n",
       "      <td>1.243408</td>\n",
       "      <td>-0.164231</td>\n",
       "    </tr>\n",
       "    <tr>\n",
       "      <th>...</th>\n",
       "      <td>...</td>\n",
       "      <td>...</td>\n",
       "      <td>...</td>\n",
       "    </tr>\n",
       "    <tr>\n",
       "      <th>144906</th>\n",
       "      <td>0.866929</td>\n",
       "      <td>-1.291140</td>\n",
       "      <td>0.025242</td>\n",
       "    </tr>\n",
       "    <tr>\n",
       "      <th>144907</th>\n",
       "      <td>0.866929</td>\n",
       "      <td>-1.291140</td>\n",
       "      <td>0.025242</td>\n",
       "    </tr>\n",
       "    <tr>\n",
       "      <th>144908</th>\n",
       "      <td>0.866929</td>\n",
       "      <td>-1.289460</td>\n",
       "      <td>0.023385</td>\n",
       "    </tr>\n",
       "    <tr>\n",
       "      <th>144909</th>\n",
       "      <td>0.866929</td>\n",
       "      <td>-1.291140</td>\n",
       "      <td>0.025242</td>\n",
       "    </tr>\n",
       "    <tr>\n",
       "      <th>144910</th>\n",
       "      <td>0.866929</td>\n",
       "      <td>-1.289460</td>\n",
       "      <td>0.025242</td>\n",
       "    </tr>\n",
       "  </tbody>\n",
       "</table>\n",
       "<p>144911 rows × 3 columns</p>\n",
       "</div>"
      ],
      "text/plain": [
       "               x         y         z\n",
       "0      -0.318759  1.317360 -0.591473\n",
       "1      -0.688905  1.621573  0.454343\n",
       "2      -0.552642  1.340891 -0.500452\n",
       "3      -1.292934  0.799694 -0.463301\n",
       "4      -0.835336  1.243408 -0.164231\n",
       "...          ...       ...       ...\n",
       "144906  0.866929 -1.291140  0.025242\n",
       "144907  0.866929 -1.291140  0.025242\n",
       "144908  0.866929 -1.289460  0.023385\n",
       "144909  0.866929 -1.291140  0.025242\n",
       "144910  0.866929 -1.289460  0.025242\n",
       "\n",
       "[144911 rows x 3 columns]"
      ]
     },
     "execution_count": 2,
     "metadata": {},
     "output_type": "execute_result"
    }
   ],
   "source": [
    "test = pd.read_csv(os.path.join('DeMaCS_Project_Data/task1_next_value_prediction', 'test.csv'), sep = ',')\n",
    "train = pd.read_csv(os.path.join('DeMaCS_Project_Data/task1_next_value_prediction', 'train.csv'), sep = ',')\n",
    "\n",
    "train_mean = train.mean()\n",
    "train_std = train.std()\n",
    "\n",
    "train = (train - train_mean) / train_std\n",
    "train"
   ]
  },
  {
   "cell_type": "markdown",
   "metadata": {
    "id": "Rj5ombK2qwI9"
   },
   "source": [
    "### sequences creation"
   ]
  },
  {
   "cell_type": "code",
   "execution_count": 3,
   "metadata": {},
   "outputs": [],
   "source": [
    "def extract_seq(data_set, max_len, step, axis):\n",
    "  print(\"extracting sequences\")\n",
    "  sequences = []\n",
    "  values = []\n",
    "  for i in range(0, len(data_set) - max_len - 1, step):\n",
    "    print(\"\\r\" + str(int((i+1) / len(data_set) * 100)) + \" %\", end=\"\")\n",
    "    sequences.append(data_set[axis][i: i + max_len])\n",
    "    values.append(data_set[axis][i + max_len])\n",
    "  sequences = np.array(sequences)\n",
    "  sequences = sequences.reshape((sequences.shape[0], sequences.shape[1], 1))\n",
    "  values = np.array(values)\n",
    "  values = values.reshape((values.shape[0], 1))\n",
    "  print(\"\\r100 %\")\n",
    "  return sequences, values"
   ]
  },
  {
   "cell_type": "code",
   "execution_count": 4,
   "metadata": {
    "id": "kEwHN7K4Ljss"
   },
   "outputs": [
    {
     "name": "stdout",
     "output_type": "stream",
     "text": [
      "extracting sequences\n",
      "100 %\n",
      "extracting sequences\n",
      "100 %\n",
      "extracting sequences\n",
      "100 %\n",
      "extracting sequences\n",
      "100 %\n",
      "extracting sequences\n",
      "100 %\n",
      "extracting sequences\n",
      "100 %\n"
     ]
    }
   ],
   "source": [
    "sequences_train_x, values_train_x = extract_seq(train, 30, 6, 'x')\n",
    "sequences_train_y, values_train_y = extract_seq(train, 30, 6, 'y')\n",
    "sequences_train_z, values_train_z = extract_seq(train, 30, 6, 'z')\n",
    "\n",
    "sequences_test_x, values_test_x = extract_seq(test, 30, 6, 'x')\n",
    "sequences_test_y, values_test_y = extract_seq(test, 30, 6, 'y')\n",
    "sequences_test_z, values_test_z = extract_seq(test, 30, 6, 'z')"
   ]
  },
  {
   "cell_type": "code",
   "execution_count": 5,
   "metadata": {
    "colab": {
     "base_uri": "https://localhost:8080/"
    },
    "id": "J6kc3TJkj-d2",
    "outputId": "97ccda12-e998-48b7-d78c-03c7521d962f"
   },
   "outputs": [
    {
     "data": {
      "text/plain": [
       "(24147, 30, 1)"
      ]
     },
     "execution_count": 5,
     "metadata": {},
     "output_type": "execute_result"
    }
   ],
   "source": [
    "sequences_train_x.shape"
   ]
  },
  {
   "cell_type": "markdown",
   "metadata": {
    "id": "Wc7SWJMMAohH"
   },
   "source": [
    "### models creation"
   ]
  },
  {
   "cell_type": "code",
   "execution_count": 6,
   "metadata": {
    "colab": {
     "base_uri": "https://localhost:8080/"
    },
    "id": "P9ej9lc7Aq4b",
    "outputId": "91b56263-73dd-4846-a827-de70f3150749"
   },
   "outputs": [
    {
     "name": "stdout",
     "output_type": "stream",
     "text": [
      "Epoch 1/5\n",
      "755/755 [==============================] - 23s 26ms/step - loss: 0.1439\n",
      "Epoch 2/5\n",
      "755/755 [==============================] - 20s 26ms/step - loss: 0.1128\n",
      "Epoch 3/5\n",
      "755/755 [==============================] - 20s 26ms/step - loss: 0.1114\n",
      "Epoch 4/5\n",
      "755/755 [==============================] - 20s 26ms/step - loss: 0.1114\n",
      "Epoch 5/5\n",
      "755/755 [==============================] - 20s 26ms/step - loss: 0.1112\n"
     ]
    }
   ],
   "source": [
    "model_x = Sequential()\n",
    "model_x.add(layers.LSTM(64, input_shape=(30, 1)))\n",
    "model_x.add(layers.Dense(1))\n",
    "model_x.compile(loss='mean_absolute_error', optimizer = 'adam')\n",
    "history_x = model_x.fit(sequences_train_x, values_train_x, epochs=5)"
   ]
  },
  {
   "cell_type": "code",
   "execution_count": 7,
   "metadata": {
    "colab": {
     "base_uri": "https://localhost:8080/"
    },
    "id": "lUda-HimO7FE",
    "outputId": "b334e9e1-82b9-4358-8406-8848c63b6e5d"
   },
   "outputs": [
    {
     "name": "stdout",
     "output_type": "stream",
     "text": [
      "Epoch 1/5\n",
      "755/755 [==============================] - 23s 26ms/step - loss: 0.1307\n",
      "Epoch 2/5\n",
      "755/755 [==============================] - 20s 26ms/step - loss: 0.0933\n",
      "Epoch 3/5\n",
      "755/755 [==============================] - 20s 26ms/step - loss: 0.0902\n",
      "Epoch 4/5\n",
      "755/755 [==============================] - 20s 27ms/step - loss: 0.0898\n",
      "Epoch 5/5\n",
      "755/755 [==============================] - 20s 27ms/step - loss: 0.0892\n"
     ]
    }
   ],
   "source": [
    "model_y = Sequential()\n",
    "model_y.add(layers.LSTM(64, input_shape=(30, 1)))\n",
    "model_y.add(layers.Dense(1))\n",
    "model_y.compile(loss='mean_absolute_error', optimizer = 'adam')\n",
    "history_y = model_y.fit(sequences_train_y, values_train_y, epochs=5)"
   ]
  },
  {
   "cell_type": "code",
   "execution_count": 8,
   "metadata": {
    "colab": {
     "base_uri": "https://localhost:8080/"
    },
    "id": "tWaBKYi3O7Ij",
    "outputId": "20f6e74f-f15e-4837-8efa-a710270ae9c8"
   },
   "outputs": [
    {
     "name": "stdout",
     "output_type": "stream",
     "text": [
      "Epoch 1/5\n",
      "755/755 [==============================] - 23s 26ms/step - loss: 0.1539\n",
      "Epoch 2/5\n",
      "755/755 [==============================] - 20s 27ms/step - loss: 0.1156\n",
      "Epoch 3/5\n",
      "755/755 [==============================] - 20s 26ms/step - loss: 0.1138\n",
      "Epoch 4/5\n",
      "755/755 [==============================] - 20s 26ms/step - loss: 0.1129\n",
      "Epoch 5/5\n",
      "755/755 [==============================] - 20s 26ms/step - loss: 0.1129\n"
     ]
    }
   ],
   "source": [
    "model_z = Sequential()\n",
    "model_z.add(layers.LSTM(64, input_shape=(30, 1)))\n",
    "model_z.add(layers.Dense(1))\n",
    "model_z.compile(loss='mean_absolute_error', optimizer = 'adam')\n",
    "history_z = model_z.fit(sequences_train_z, values_train_z, epochs=5)"
   ]
  },
  {
   "cell_type": "code",
   "execution_count": 9,
   "metadata": {
    "colab": {
     "base_uri": "https://localhost:8080/",
     "height": 295
    },
    "id": "do7eSpkbueIx",
    "outputId": "76412e06-02a5-45ae-f04e-240fe47f4acf"
   },
   "outputs": [
    {
     "data": {
      "image/png": "[encoded data removed]",
      "text/plain": [
       "<Figure size 432x288 with 1 Axes>"
      ]
     },
     "metadata": {
      "needs_background": "light"
     },
     "output_type": "display_data"
    }
   ],
   "source": [
    "plt.plot(range(len(history_x.history['loss'])), history_x.history['loss'],  label='Training loss X')\n",
    "plt.plot(range(len(history_y.history['loss'])), history_y.history['loss'],  label='Training loss Y')\n",
    "plt.plot(range(len(history_z.history['loss'])), history_z.history['loss'],  label='Training loss Z')\n",
    "plt.title('Training loss') \n",
    "plt.xlabel('Epochs')\n",
    "plt.ylabel('Loss') \n",
    "plt.legend()\n",
    "plt.show()"
   ]
  },
  {
   "cell_type": "markdown",
   "metadata": {
    "id": "d3d6-4qXK9Q6"
   },
   "source": [
    "### models evaluation"
   ]
  },
  {
   "cell_type": "code",
   "execution_count": 10,
   "metadata": {
    "id": "DASB49UerGfE"
   },
   "outputs": [],
   "source": [
    "def get_error(sequences, values, axis, model):\n",
    "  print(\"getting error\")\n",
    "  error = 0\n",
    "  for i in range(sequences.shape[0]):\n",
    "    print(\"\\r\" + str(int((i+1) / sequences.shape[0] * 100)) + \" %\", end=\"\")\n",
    "    prediction = model.predict((sequences[[i]] - train_mean[axis]) / train_std[axis])\n",
    "    prediction = (prediction * train_std[axis]) + train_mean[axis]\n",
    "    error += abs(prediction[0][0] - values[i][0])\n",
    "  print(\"\\r100 %\")\n",
    "  return error / sequences.shape[0]"
   ]
  },
  {
   "cell_type": "code",
   "execution_count": 11,
   "metadata": {
    "colab": {
     "base_uri": "https://localhost:8080/"
    },
    "id": "yRdC50-RjWiP",
    "outputId": "577b608e-d224-4768-fd47-18265a6c0d61"
   },
   "outputs": [
    {
     "name": "stdout",
     "output_type": "stream",
     "text": [
      "getting error\n",
      "100 %\n",
      "errore sull' asse x = 75.72323637960645\n",
      "getting error\n",
      "100 %\n",
      "errore sull' asse y = 81.05911578277306\n",
      "getting error\n",
      "100 %\n",
      "errore sull' asse z = 73.73348487640465\n"
     ]
    }
   ],
   "source": [
    "# x=81.06; y=85.26; z=79.94\n",
    "print(\"errore sull' asse x = \" + str(get_error(sequences_test_x, values_test_x, 'x', model_x)))\n",
    "print(\"errore sull' asse y = \" + str(get_error(sequences_test_y, values_test_y, 'y', model_y)))\n",
    "print(\"errore sull' asse z = \" + str(get_error(sequences_test_z, values_test_z, 'z', model_z)))"
   ]
  },
  {
   "cell_type": "markdown",
   "metadata": {
    "id": "WkJFya8o1C4i"
   },
   "source": [
    "#### execution time - 3.5 hours\n",
    "## Task 1.2 - analyze the effect of the window shift and the windows size"
   ]
  },
  {
   "cell_type": "code",
   "execution_count": 12,
   "metadata": {
    "colab": {
     "base_uri": "https://localhost:8080/"
    },
    "id": "G97lrEtzJkxk",
    "outputId": "c17a2cfc-13e0-42f6-fbdf-c42dd7dcc0bc"
   },
   "outputs": [
    {
     "name": "stdout",
     "output_type": "stream",
     "text": [
      "\n",
      "step 3 - maxlen 15\n",
      "\n",
      "extracting sequences\n",
      "100 %\n",
      "extracting sequences\n",
      "100 %\n",
      "Epoch 1/5\n",
      "1510/1510 [==============================] - 10s 6ms/step - loss: 0.1325\n",
      "Epoch 2/5\n",
      "1510/1510 [==============================] - 10s 7ms/step - loss: 0.1121\n",
      "Epoch 3/5\n",
      "1510/1510 [==============================] - 10s 7ms/step - loss: 0.1115\n",
      "Epoch 4/5\n",
      "1510/1510 [==============================] - 10s 7ms/step - loss: 0.1109\n",
      "Epoch 5/5\n",
      "1510/1510 [==============================] - 10s 7ms/step - loss: 0.1107\n",
      "getting error\n",
      "100 %\n",
      "\n",
      "step 3 - maxlen 30\n",
      "\n",
      "extracting sequences\n",
      "100 %\n",
      "extracting sequences\n",
      "100 %\n",
      "Epoch 1/5\n",
      "1510/1510 [==============================] - 45s 28ms/step - loss: 0.1330\n",
      "Epoch 2/5\n",
      "1510/1510 [==============================] - 42s 28ms/step - loss: 0.1118\n",
      "Epoch 3/5\n",
      "1510/1510 [==============================] - 42s 27ms/step - loss: 0.1111\n",
      "Epoch 4/5\n",
      "1510/1510 [==============================] - 42s 28ms/step - loss: 0.1110\n",
      "Epoch 5/5\n",
      "1510/1510 [==============================] - 42s 28ms/step - loss: 0.1106\n",
      "getting error\n",
      "100 %\n",
      "\n",
      "step 3 - maxlen 60\n",
      "\n",
      "extracting sequences\n",
      "100 %\n",
      "extracting sequences\n",
      "100 %\n",
      "Epoch 1/5\n",
      "1509/1509 [==============================] - 34s 21ms/step - loss: 0.1318\n",
      "Epoch 2/5\n",
      "1509/1509 [==============================] - 33s 22ms/step - loss: 0.1120\n",
      "Epoch 3/5\n",
      "1509/1509 [==============================] - 33s 22ms/step - loss: 0.1113\n",
      "Epoch 4/5\n",
      "1509/1509 [==============================] - 33s 22ms/step - loss: 0.1112\n",
      "Epoch 5/5\n",
      "1509/1509 [==============================] - 33s 22ms/step - loss: 0.1108\n",
      "getting error\n",
      "100 %\n",
      "\n",
      "step 6 - maxlen 15\n",
      "\n",
      "extracting sequences\n",
      "100 %\n",
      "extracting sequences\n",
      "100 %\n",
      "Epoch 1/5\n",
      "755/755 [==============================] - 6s 6ms/step - loss: 0.1631\n",
      "Epoch 2/5\n",
      "755/755 [==============================] - 5s 7ms/step - loss: 0.1159\n",
      "Epoch 3/5\n",
      "755/755 [==============================] - 5s 7ms/step - loss: 0.1129\n",
      "Epoch 4/5\n",
      "755/755 [==============================] - 5s 7ms/step - loss: 0.1118\n",
      "Epoch 5/5\n",
      "755/755 [==============================] - 5s 7ms/step - loss: 0.1115\n",
      "getting error\n",
      "100 %\n",
      "\n",
      "step 6 - maxlen 30\n",
      "\n",
      "extracting sequences\n",
      "100 %\n",
      "extracting sequences\n",
      "100 %\n",
      "Epoch 1/5\n",
      "755/755 [==============================] - 10s 11ms/step - loss: 0.1559\n",
      "Epoch 2/5\n",
      "755/755 [==============================] - 9s 12ms/step - loss: 0.1146\n",
      "Epoch 3/5\n",
      "755/755 [==============================] - 9s 12ms/step - loss: 0.1125\n",
      "Epoch 4/5\n",
      "755/755 [==============================] - 9s 12ms/step - loss: 0.1118\n",
      "Epoch 5/5\n",
      "755/755 [==============================] - 9s 12ms/step - loss: 0.1112\n",
      "getting error\n",
      "100 %\n",
      "\n",
      "step 6 - maxlen 60\n",
      "\n",
      "extracting sequences\n",
      "100 %\n",
      "extracting sequences\n",
      "100 %\n",
      "Epoch 1/5\n",
      "755/755 [==============================] - 17s 21ms/step - loss: 0.1505\n",
      "Epoch 2/5\n",
      "755/755 [==============================] - 17s 22ms/step - loss: 0.1139\n",
      "Epoch 3/5\n",
      "755/755 [==============================] - 17s 22ms/step - loss: 0.1122\n",
      "Epoch 4/5\n",
      "755/755 [==============================] - 17s 22ms/step - loss: 0.1115\n",
      "Epoch 5/5\n",
      "755/755 [==============================] - 17s 22ms/step - loss: 0.1111\n",
      "getting error\n",
      "100 %\n",
      "\n",
      "step 12 - maxlen 15\n",
      "\n",
      "extracting sequences\n",
      "100 %\n",
      "extracting sequences\n",
      "100 %\n",
      "Epoch 1/5\n",
      "378/378 [==============================] - 4s 6ms/step - loss: 0.1915\n",
      "Epoch 2/5\n",
      "378/378 [==============================] - 2s 6ms/step - loss: 0.1250\n",
      "Epoch 3/5\n",
      "378/378 [==============================] - 2s 6ms/step - loss: 0.1146\n",
      "Epoch 4/5\n",
      "378/378 [==============================] - 3s 7ms/step - loss: 0.1120\n",
      "Epoch 5/5\n",
      "378/378 [==============================] - 3s 7ms/step - loss: 0.1114\n",
      "getting error\n",
      "100 %\n",
      "\n",
      "step 12 - maxlen 30\n",
      "\n",
      "extracting sequences\n",
      "100 %\n",
      "extracting sequences\n",
      "100 %\n",
      "Epoch 1/5\n",
      "378/378 [==============================] - 5s 10ms/step - loss: 0.1689\n",
      "Epoch 2/5\n",
      "378/378 [==============================] - 4s 11ms/step - loss: 0.1232\n",
      "Epoch 3/5\n",
      "378/378 [==============================] - 5s 12ms/step - loss: 0.1137\n",
      "Epoch 4/5\n",
      "378/378 [==============================] - 5s 12ms/step - loss: 0.1119\n",
      "Epoch 5/5\n",
      "378/378 [==============================] - 5s 12ms/step - loss: 0.1111\n",
      "getting error\n",
      "100 %\n",
      "\n",
      "step 12 - maxlen 60\n",
      "\n",
      "extracting sequences\n",
      "100 %\n",
      "extracting sequences\n",
      "100 %\n",
      "Epoch 1/5\n",
      "378/378 [==============================] - 9s 20ms/step - loss: 0.1823\n",
      "Epoch 2/5\n",
      "378/378 [==============================] - 8s 22ms/step - loss: 0.1241\n",
      "Epoch 3/5\n",
      "378/378 [==============================] - 8s 22ms/step - loss: 0.1143\n",
      "Epoch 4/5\n",
      "378/378 [==============================] - 8s 22ms/step - loss: 0.1133\n",
      "Epoch 5/5\n",
      "378/378 [==============================] - 8s 22ms/step - loss: 0.1126\n",
      "getting error\n",
      "100 %\n"
     ]
    }
   ],
   "source": [
    "labels = []\n",
    "errors = []\n",
    "\n",
    "for step_ in [3, 6, 12]:\n",
    "  for maxlen_ in [15, 30, 60]:\n",
    "    print(\"\\nstep \" + str(step_) + \" - maxlen \" + str(maxlen_) + \"\\n\")\n",
    "\n",
    "    sequences_train, values_train = extract_seq(train, maxlen_, step_, 'x')\n",
    "    sequences_test, values_test = extract_seq(test, maxlen_, step_, 'x')\n",
    "\n",
    "    model = Sequential()\n",
    "    model.add(layers.LSTM(64, input_shape=(maxlen_, 1)))\n",
    "    model.add(layers.Dense(1))\n",
    "    model.compile(loss='mean_absolute_error', optimizer = 'adam')\n",
    "    model.fit(sequences_train, values_train, epochs=5)\n",
    "\n",
    "    labels.append(str(step_) + \" \" + str(maxlen_))\n",
    "    errors.append(get_error(sequences_test, values_test, 'x', model))"
   ]
  },
  {
   "cell_type": "code",
   "execution_count": 13,
   "metadata": {
    "colab": {
     "base_uri": "https://localhost:8080/",
     "height": 295
    },
    "id": "-RCNz2fjkZmc",
    "outputId": "79c92379-bad0-426b-ca8b-4024a368d336"
   },
   "outputs": [
    {
     "data": {
      "image/png": "[encoded data removed]",
      "text/plain": [
       "<Figure size 432x288 with 1 Axes>"
      ]
     },
     "metadata": {
      "needs_background": "light"
     },
     "output_type": "display_data"
    }
   ],
   "source": [
    "plt.plot(labels, errors, 'r', label='Error') \n",
    "plt.title('Variation of errors') \n",
    "plt.xlabel('Parameter (step - maxlen)')\n",
    "plt.ylabel('Error') \n",
    "plt.legend()\n",
    "plt.show()"
   ]
  },
  {
   "cell_type": "markdown",
   "metadata": {
    "id": "1asbe-R6x2V1"
   },
   "source": [
    "#### execution time - 15:30\n",
    "## Task 2 - detect off period"
   ]
  },
  {
   "cell_type": "markdown",
   "metadata": {
    "id": "0MJ91rIL0Kxy"
   },
   "source": [
    "### resampling by mean of 10 seconds"
   ]
  },
  {
   "cell_type": "code",
   "execution_count": 14,
   "metadata": {
    "colab": {
     "base_uri": "https://localhost:8080/",
     "height": 424
    },
    "id": "mdy4ItDlvsTV",
    "outputId": "d5d77bd0-ad25-436f-da11-012722ef0296"
   },
   "outputs": [
    {
     "data": {
      "text/html": [
       "<div>\n",
       "<style scoped>\n",
       "    .dataframe tbody tr th:only-of-type {\n",
       "        vertical-align: middle;\n",
       "    }\n",
       "\n",
       "    .dataframe tbody tr th {\n",
       "        vertical-align: top;\n",
       "    }\n",
       "\n",
       "    .dataframe thead th {\n",
       "        text-align: right;\n",
       "    }\n",
       "</style>\n",
       "<table border=\"1\" class=\"dataframe\">\n",
       "  <thead>\n",
       "    <tr style=\"text-align: right;\">\n",
       "      <th></th>\n",
       "      <th>x</th>\n",
       "      <th>y</th>\n",
       "      <th>z</th>\n",
       "      <th>heartRate</th>\n",
       "    </tr>\n",
       "  </thead>\n",
       "  <tbody>\n",
       "    <tr>\n",
       "      <th>0</th>\n",
       "      <td>0.168985</td>\n",
       "      <td>0.555766</td>\n",
       "      <td>2.141176</td>\n",
       "      <td>0.708915</td>\n",
       "    </tr>\n",
       "    <tr>\n",
       "      <th>1</th>\n",
       "      <td>0.169354</td>\n",
       "      <td>0.556330</td>\n",
       "      <td>2.140982</td>\n",
       "      <td>0.708915</td>\n",
       "    </tr>\n",
       "    <tr>\n",
       "      <th>2</th>\n",
       "      <td>0.168985</td>\n",
       "      <td>0.555766</td>\n",
       "      <td>2.141371</td>\n",
       "      <td>0.708915</td>\n",
       "    </tr>\n",
       "    <tr>\n",
       "      <th>3</th>\n",
       "      <td>0.168800</td>\n",
       "      <td>0.555954</td>\n",
       "      <td>2.140203</td>\n",
       "      <td>0.708915</td>\n",
       "    </tr>\n",
       "    <tr>\n",
       "      <th>4</th>\n",
       "      <td>0.168985</td>\n",
       "      <td>0.555578</td>\n",
       "      <td>2.141176</td>\n",
       "      <td>0.708915</td>\n",
       "    </tr>\n",
       "    <tr>\n",
       "      <th>...</th>\n",
       "      <td>...</td>\n",
       "      <td>...</td>\n",
       "      <td>...</td>\n",
       "      <td>...</td>\n",
       "    </tr>\n",
       "    <tr>\n",
       "      <th>90448</th>\n",
       "      <td>-1.045976</td>\n",
       "      <td>-1.261997</td>\n",
       "      <td>-0.846953</td>\n",
       "      <td>-1.075885</td>\n",
       "    </tr>\n",
       "    <tr>\n",
       "      <th>90449</th>\n",
       "      <td>-1.056683</td>\n",
       "      <td>-1.259364</td>\n",
       "      <td>-0.839358</td>\n",
       "      <td>-1.141988</td>\n",
       "    </tr>\n",
       "    <tr>\n",
       "      <th>90450</th>\n",
       "      <td>-1.056130</td>\n",
       "      <td>-1.258988</td>\n",
       "      <td>-0.840332</td>\n",
       "      <td>-1.141988</td>\n",
       "    </tr>\n",
       "    <tr>\n",
       "      <th>90451</th>\n",
       "      <td>-1.054653</td>\n",
       "      <td>-1.258988</td>\n",
       "      <td>-0.841305</td>\n",
       "      <td>-1.115547</td>\n",
       "    </tr>\n",
       "    <tr>\n",
       "      <th>90452</th>\n",
       "      <td>-1.049668</td>\n",
       "      <td>-1.262938</td>\n",
       "      <td>-0.843058</td>\n",
       "      <td>-1.069274</td>\n",
       "    </tr>\n",
       "  </tbody>\n",
       "</table>\n",
       "<p>90453 rows × 4 columns</p>\n",
       "</div>"
      ],
      "text/plain": [
       "              x         y         z  heartRate\n",
       "0      0.168985  0.555766  2.141176   0.708915\n",
       "1      0.169354  0.556330  2.140982   0.708915\n",
       "2      0.168985  0.555766  2.141371   0.708915\n",
       "3      0.168800  0.555954  2.140203   0.708915\n",
       "4      0.168985  0.555578  2.141176   0.708915\n",
       "...         ...       ...       ...        ...\n",
       "90448 -1.045976 -1.261997 -0.846953  -1.075885\n",
       "90449 -1.056683 -1.259364 -0.839358  -1.141988\n",
       "90450 -1.056130 -1.258988 -0.840332  -1.141988\n",
       "90451 -1.054653 -1.258988 -0.841305  -1.115547\n",
       "90452 -1.049668 -1.262938 -0.843058  -1.069274\n",
       "\n",
       "[90453 rows x 4 columns]"
      ]
     },
     "execution_count": 14,
     "metadata": {},
     "output_type": "execute_result"
    }
   ],
   "source": [
    "train_ad = open(\"DeMaCS_Project_Data/task2_anomaly_detection/ad_train.csv\", \"r\")\n",
    "train_ad_sampled = []\n",
    "cont = 0\n",
    "cont_not_null = 0\n",
    "x = 0\n",
    "y = 0\n",
    "z = 0\n",
    "heart = 0\n",
    "\n",
    "for line in train_ad:\n",
    "    cont += 1\n",
    "    values = line.split(\",\")\n",
    "    \n",
    "    if not cont == 1 and not int(values[4]) == -1:\n",
    "        cont_not_null += 1\n",
    "        x += int(values[1])\n",
    "        y += int(values[2])\n",
    "        z += int(values[3])\n",
    "        heart += int(values[4])\n",
    "\n",
    "    if cont % 10 == 0:\n",
    "        if cont_not_null > 0:\n",
    "            train_ad_sampled.append([str(x / cont_not_null), str(y / cont_not_null), str(z / cont_not_null), str(heart / cont_not_null)])\n",
    "        x = 0\n",
    "        y = 0\n",
    "        z = 0\n",
    "        heart = 0\n",
    "        cont_not_null = 0\n",
    "\n",
    "train_ad.close()\n",
    "train_ad_sampled = pd.DataFrame(train_ad_sampled)\n",
    "train_ad_sampled = train_ad_sampled.astype('float')\n",
    "train_ad_sampled.rename(columns={0:'x', 1:'y', 2:'z', 3: 'heartRate'}, inplace=True)\n",
    "\n",
    "train_ad_sampled_mean = train_ad_sampled.mean()\n",
    "train_ad_sampled_std = train_ad_sampled.std()\n",
    "\n",
    "train_ad_sampled = (train_ad_sampled - train_ad_sampled_mean) / train_ad_sampled_std\n",
    "train_ad_sampled"
   ]
  },
  {
   "cell_type": "code",
   "execution_count": 15,
   "metadata": {
    "colab": {
     "base_uri": "https://localhost:8080/",
     "height": 424
    },
    "id": "d-eD9GTBsqpx",
    "outputId": "13c81198-15d5-46a9-f3eb-ccc4d05367ae"
   },
   "outputs": [
    {
     "data": {
      "text/html": [
       "<div>\n",
       "<style scoped>\n",
       "    .dataframe tbody tr th:only-of-type {\n",
       "        vertical-align: middle;\n",
       "    }\n",
       "\n",
       "    .dataframe tbody tr th {\n",
       "        vertical-align: top;\n",
       "    }\n",
       "\n",
       "    .dataframe thead th {\n",
       "        text-align: right;\n",
       "    }\n",
       "</style>\n",
       "<table border=\"1\" class=\"dataframe\">\n",
       "  <thead>\n",
       "    <tr style=\"text-align: right;\">\n",
       "      <th></th>\n",
       "      <th>patient</th>\n",
       "      <th>timestamp</th>\n",
       "      <th>tsDate</th>\n",
       "      <th>x</th>\n",
       "      <th>y</th>\n",
       "      <th>z</th>\n",
       "      <th>heartRate</th>\n",
       "    </tr>\n",
       "  </thead>\n",
       "  <tbody>\n",
       "    <tr>\n",
       "      <th>0</th>\n",
       "      <td>1004</td>\n",
       "      <td>1567224000000</td>\n",
       "      <td>2019-08-31 04:00:00.004</td>\n",
       "      <td>-24</td>\n",
       "      <td>749</td>\n",
       "      <td>-626</td>\n",
       "      <td>77</td>\n",
       "    </tr>\n",
       "    <tr>\n",
       "      <th>1</th>\n",
       "      <td>1004</td>\n",
       "      <td>1567224010000</td>\n",
       "      <td>2019-08-31 04:00:10.022</td>\n",
       "      <td>-206</td>\n",
       "      <td>930</td>\n",
       "      <td>-63</td>\n",
       "      <td>77</td>\n",
       "    </tr>\n",
       "    <tr>\n",
       "      <th>2</th>\n",
       "      <td>1004</td>\n",
       "      <td>1567224020000</td>\n",
       "      <td>2019-08-31 04:00:20.041</td>\n",
       "      <td>-139</td>\n",
       "      <td>763</td>\n",
       "      <td>-577</td>\n",
       "      <td>72</td>\n",
       "    </tr>\n",
       "    <tr>\n",
       "      <th>3</th>\n",
       "      <td>1004</td>\n",
       "      <td>1567224030000</td>\n",
       "      <td>2019-08-31 04:00:30.059</td>\n",
       "      <td>-503</td>\n",
       "      <td>441</td>\n",
       "      <td>-557</td>\n",
       "      <td>73</td>\n",
       "    </tr>\n",
       "    <tr>\n",
       "      <th>4</th>\n",
       "      <td>1004</td>\n",
       "      <td>1567224040000</td>\n",
       "      <td>2019-08-31 04:00:40.060</td>\n",
       "      <td>-278</td>\n",
       "      <td>705</td>\n",
       "      <td>-396</td>\n",
       "      <td>78</td>\n",
       "    </tr>\n",
       "    <tr>\n",
       "      <th>...</th>\n",
       "      <td>...</td>\n",
       "      <td>...</td>\n",
       "      <td>...</td>\n",
       "      <td>...</td>\n",
       "      <td>...</td>\n",
       "      <td>...</td>\n",
       "      <td>...</td>\n",
       "    </tr>\n",
       "    <tr>\n",
       "      <th>722782</th>\n",
       "      <td>4002</td>\n",
       "      <td>1571086745000</td>\n",
       "      <td>2019-10-14 20:59:05.521</td>\n",
       "      <td>-501</td>\n",
       "      <td>-134</td>\n",
       "      <td>-863</td>\n",
       "      <td>76</td>\n",
       "    </tr>\n",
       "    <tr>\n",
       "      <th>722783</th>\n",
       "      <td>4002</td>\n",
       "      <td>1571086755000</td>\n",
       "      <td>2019-10-14 20:59:15.539</td>\n",
       "      <td>-500</td>\n",
       "      <td>-133</td>\n",
       "      <td>-863</td>\n",
       "      <td>78</td>\n",
       "    </tr>\n",
       "    <tr>\n",
       "      <th>722784</th>\n",
       "      <td>4002</td>\n",
       "      <td>1571086765000</td>\n",
       "      <td>2019-10-14 20:59:25.557</td>\n",
       "      <td>-500</td>\n",
       "      <td>-133</td>\n",
       "      <td>-863</td>\n",
       "      <td>79</td>\n",
       "    </tr>\n",
       "    <tr>\n",
       "      <th>722785</th>\n",
       "      <td>4002</td>\n",
       "      <td>1571086775000</td>\n",
       "      <td>2019-10-14 20:59:35.570</td>\n",
       "      <td>-500</td>\n",
       "      <td>-134</td>\n",
       "      <td>-863</td>\n",
       "      <td>78</td>\n",
       "    </tr>\n",
       "    <tr>\n",
       "      <th>722786</th>\n",
       "      <td>4002</td>\n",
       "      <td>1571086785000</td>\n",
       "      <td>2019-10-14 20:59:45.577</td>\n",
       "      <td>-500</td>\n",
       "      <td>-134</td>\n",
       "      <td>-863</td>\n",
       "      <td>77</td>\n",
       "    </tr>\n",
       "  </tbody>\n",
       "</table>\n",
       "<p>722787 rows × 7 columns</p>\n",
       "</div>"
      ],
      "text/plain": [
       "        patient      timestamp                   tsDate    x    y    z  \\\n",
       "0          1004  1567224000000  2019-08-31 04:00:00.004  -24  749 -626   \n",
       "1          1004  1567224010000  2019-08-31 04:00:10.022 -206  930  -63   \n",
       "2          1004  1567224020000  2019-08-31 04:00:20.041 -139  763 -577   \n",
       "3          1004  1567224030000  2019-08-31 04:00:30.059 -503  441 -557   \n",
       "4          1004  1567224040000  2019-08-31 04:00:40.060 -278  705 -396   \n",
       "...         ...            ...                      ...  ...  ...  ...   \n",
       "722782     4002  1571086745000  2019-10-14 20:59:05.521 -501 -134 -863   \n",
       "722783     4002  1571086755000  2019-10-14 20:59:15.539 -500 -133 -863   \n",
       "722784     4002  1571086765000  2019-10-14 20:59:25.557 -500 -133 -863   \n",
       "722785     4002  1571086775000  2019-10-14 20:59:35.570 -500 -134 -863   \n",
       "722786     4002  1571086785000  2019-10-14 20:59:45.577 -500 -134 -863   \n",
       "\n",
       "        heartRate  \n",
       "0              77  \n",
       "1              77  \n",
       "2              72  \n",
       "3              73  \n",
       "4              78  \n",
       "...           ...  \n",
       "722782         76  \n",
       "722783         78  \n",
       "722784         79  \n",
       "722785         78  \n",
       "722786         77  \n",
       "\n",
       "[722787 rows x 7 columns]"
      ]
     },
     "execution_count": 15,
     "metadata": {},
     "output_type": "execute_result"
    }
   ],
   "source": [
    "test_ad = pd.read_csv(os.path.join('DeMaCS_Project_Data/task2_anomaly_detection', 'ad_test.csv'), sep = ',')\n",
    "test_ad"
   ]
  },
  {
   "cell_type": "code",
   "execution_count": 16,
   "metadata": {
    "colab": {
     "base_uri": "https://localhost:8080/",
     "height": 424
    },
    "id": "FOPOs4JqPV2H",
    "outputId": "c4001c91-9c20-4ffa-b040-38bff4b371f4"
   },
   "outputs": [
    {
     "name": "stderr",
     "output_type": "stream",
     "text": [
      "C:\\Users\\marco\\AppData\\Local\\Temp/ipykernel_13940/2776595437.py:1: FutureWarning: In a future version of pandas all arguments of DataFrame.drop except for the argument 'labels' will be keyword-only.\n",
      "  test_ad_norm = test_ad.drop(['patient', 'timestamp', 'tsDate'], 1)\n"
     ]
    },
    {
     "data": {
      "text/html": [
       "<div>\n",
       "<style scoped>\n",
       "    .dataframe tbody tr th:only-of-type {\n",
       "        vertical-align: middle;\n",
       "    }\n",
       "\n",
       "    .dataframe tbody tr th {\n",
       "        vertical-align: top;\n",
       "    }\n",
       "\n",
       "    .dataframe thead th {\n",
       "        text-align: right;\n",
       "    }\n",
       "</style>\n",
       "<table border=\"1\" class=\"dataframe\">\n",
       "  <thead>\n",
       "    <tr style=\"text-align: right;\">\n",
       "      <th></th>\n",
       "      <th>x</th>\n",
       "      <th>y</th>\n",
       "      <th>z</th>\n",
       "      <th>heartRate</th>\n",
       "    </tr>\n",
       "  </thead>\n",
       "  <tbody>\n",
       "    <tr>\n",
       "      <th>0</th>\n",
       "      <td>0.082215</td>\n",
       "      <td>0.891107</td>\n",
       "      <td>-0.786969</td>\n",
       "      <td>0.246189</td>\n",
       "    </tr>\n",
       "    <tr>\n",
       "      <th>1</th>\n",
       "      <td>-0.253787</td>\n",
       "      <td>1.231526</td>\n",
       "      <td>0.309503</td>\n",
       "      <td>0.246189</td>\n",
       "    </tr>\n",
       "    <tr>\n",
       "      <th>2</th>\n",
       "      <td>-0.130094</td>\n",
       "      <td>0.917438</td>\n",
       "      <td>-0.691539</td>\n",
       "      <td>-0.084329</td>\n",
       "    </tr>\n",
       "    <tr>\n",
       "      <th>3</th>\n",
       "      <td>-0.802097</td>\n",
       "      <td>0.311830</td>\n",
       "      <td>-0.652587</td>\n",
       "      <td>-0.018226</td>\n",
       "    </tr>\n",
       "    <tr>\n",
       "      <th>4</th>\n",
       "      <td>-0.386711</td>\n",
       "      <td>0.808353</td>\n",
       "      <td>-0.339032</td>\n",
       "      <td>0.312293</td>\n",
       "    </tr>\n",
       "    <tr>\n",
       "      <th>...</th>\n",
       "      <td>...</td>\n",
       "      <td>...</td>\n",
       "      <td>...</td>\n",
       "      <td>...</td>\n",
       "    </tr>\n",
       "    <tr>\n",
       "      <th>722782</th>\n",
       "      <td>-0.798405</td>\n",
       "      <td>-0.769612</td>\n",
       "      <td>-1.248539</td>\n",
       "      <td>0.180085</td>\n",
       "    </tr>\n",
       "    <tr>\n",
       "      <th>722783</th>\n",
       "      <td>-0.796559</td>\n",
       "      <td>-0.767731</td>\n",
       "      <td>-1.248539</td>\n",
       "      <td>0.312293</td>\n",
       "    </tr>\n",
       "    <tr>\n",
       "      <th>722784</th>\n",
       "      <td>-0.796559</td>\n",
       "      <td>-0.767731</td>\n",
       "      <td>-1.248539</td>\n",
       "      <td>0.378396</td>\n",
       "    </tr>\n",
       "    <tr>\n",
       "      <th>722785</th>\n",
       "      <td>-0.796559</td>\n",
       "      <td>-0.769612</td>\n",
       "      <td>-1.248539</td>\n",
       "      <td>0.312293</td>\n",
       "    </tr>\n",
       "    <tr>\n",
       "      <th>722786</th>\n",
       "      <td>-0.796559</td>\n",
       "      <td>-0.769612</td>\n",
       "      <td>-1.248539</td>\n",
       "      <td>0.246189</td>\n",
       "    </tr>\n",
       "  </tbody>\n",
       "</table>\n",
       "<p>722787 rows × 4 columns</p>\n",
       "</div>"
      ],
      "text/plain": [
       "               x         y         z  heartRate\n",
       "0       0.082215  0.891107 -0.786969   0.246189\n",
       "1      -0.253787  1.231526  0.309503   0.246189\n",
       "2      -0.130094  0.917438 -0.691539  -0.084329\n",
       "3      -0.802097  0.311830 -0.652587  -0.018226\n",
       "4      -0.386711  0.808353 -0.339032   0.312293\n",
       "...          ...       ...       ...        ...\n",
       "722782 -0.798405 -0.769612 -1.248539   0.180085\n",
       "722783 -0.796559 -0.767731 -1.248539   0.312293\n",
       "722784 -0.796559 -0.767731 -1.248539   0.378396\n",
       "722785 -0.796559 -0.769612 -1.248539   0.312293\n",
       "722786 -0.796559 -0.769612 -1.248539   0.246189\n",
       "\n",
       "[722787 rows x 4 columns]"
      ]
     },
     "execution_count": 16,
     "metadata": {},
     "output_type": "execute_result"
    }
   ],
   "source": [
    "test_ad_norm = test_ad.drop(['patient', 'timestamp', 'tsDate'], 1)\n",
    "test_ad_norm = (test_ad_norm - train_ad_sampled_mean) / train_ad_sampled_std\n",
    "test_ad_norm"
   ]
  },
  {
   "cell_type": "markdown",
   "metadata": {
    "id": "PirwT4PDpB2F"
   },
   "source": [
    "### extract sequences"
   ]
  },
  {
   "cell_type": "code",
   "execution_count": 17,
   "metadata": {
    "id": "lD5IBj6CpFs1"
   },
   "outputs": [],
   "source": [
    "# use list to improve performance\n",
    "# considerare se creare sequence di dim none, maxlen * 4, 1 oppure none, maxlen, 4\n",
    "# se il secondo caso usare un layer time distributed alla fine\n",
    "def extract_seq_ad(data_set, maxlen, step):\n",
    "  print(\"extracting sequences\")\n",
    "  sequences = []\n",
    "  for i in range(0, len(data_set) - maxlen - 1, step):\n",
    "  #for i in range(0, 1000, step):\n",
    "    print(\"\\r\" + str(int((i+1) / len(data_set) * 100)) + \" %\", end=\"\")\n",
    "    sequence = []\n",
    "    sequence.extend(data_set['x'][i:i + maxlen])\n",
    "    sequence.extend(data_set['y'][i:i + maxlen])\n",
    "    sequence.extend(data_set['z'][i:i + maxlen])\n",
    "    sequence.extend(data_set['heartRate'][i:i + maxlen])\n",
    "    sequences.append(sequence)\n",
    "\n",
    "  sequences = np.array(sequences)\n",
    "  sequences = sequences.reshape((sequences.shape[0], sequences.shape[1], 1))\n",
    "  print(\"\\r100 %\")\n",
    "  return sequences"
   ]
  },
  {
   "cell_type": "code",
   "execution_count": 18,
   "metadata": {
    "colab": {
     "base_uri": "https://localhost:8080/"
    },
    "id": "ywWh6VtGuaWr",
    "outputId": "7581caef-fcfc-4cac-bc9f-37e6dfcca51b"
   },
   "outputs": [
    {
     "name": "stdout",
     "output_type": "stream",
     "text": [
      "extracting sequences\n",
      "100 %\n"
     ]
    },
    {
     "data": {
      "text/plain": [
       "(15071, 120, 1)"
      ]
     },
     "execution_count": 18,
     "metadata": {},
     "output_type": "execute_result"
    }
   ],
   "source": [
    "sequences_ad = extract_seq_ad(train_ad_sampled, 30, 6)\n",
    "sequences_ad.shape"
   ]
  },
  {
   "cell_type": "code",
   "execution_count": 19,
   "metadata": {
    "id": "mQSkm6vc6a6C"
   },
   "outputs": [
    {
     "name": "stdout",
     "output_type": "stream",
     "text": [
      "extracting sequences\n",
      "100 %\n"
     ]
    },
    {
     "data": {
      "text/plain": [
       "(722756, 120, 1)"
      ]
     },
     "execution_count": 19,
     "metadata": {},
     "output_type": "execute_result"
    }
   ],
   "source": [
    "sequences_ad_test = extract_seq_ad(test_ad_norm, 30, 1)\n",
    "sequences_ad_test.shape"
   ]
  },
  {
   "cell_type": "markdown",
   "metadata": {
    "id": "lSPQmU0qf2n4"
   },
   "source": [
    "### model creation"
   ]
  },
  {
   "cell_type": "code",
   "execution_count": 20,
   "metadata": {
    "colab": {
     "base_uri": "https://localhost:8080/",
     "height": 642
    },
    "id": "i3SqZ20hxO5F",
    "outputId": "fe36ef99-18cd-46ab-f5c6-7a3e714293d0"
   },
   "outputs": [
    {
     "name": "stdout",
     "output_type": "stream",
     "text": [
      "Epoch 1/10\n",
      "471/471 [==============================] - 50s 97ms/step - loss: 0.5039\n",
      "Epoch 2/10\n",
      "471/471 [==============================] - 46s 97ms/step - loss: 0.2857\n",
      "Epoch 3/10\n",
      "471/471 [==============================] - 46s 99ms/step - loss: 0.2694\n",
      "Epoch 4/10\n",
      "471/471 [==============================] - 46s 98ms/step - loss: 0.2643\n",
      "Epoch 5/10\n",
      "471/471 [==============================] - 46s 97ms/step - loss: 0.2593\n",
      "Epoch 6/10\n",
      "471/471 [==============================] - 46s 97ms/step - loss: 0.2507\n",
      "Epoch 7/10\n",
      "471/471 [==============================] - 45s 97ms/step - loss: 0.2473\n",
      "Epoch 8/10\n",
      "471/471 [==============================] - 46s 97ms/step - loss: 0.2417\n",
      "Epoch 9/10\n",
      "471/471 [==============================] - 46s 97ms/step - loss: 0.2383\n",
      "Epoch 10/10\n",
      "471/471 [==============================] - 46s 97ms/step - loss: 0.2336\n"
     ]
    },
    {
     "data": {
      "image/png": "[encoded data removed]",
      "text/plain": [
       "<Figure size 432x288 with 1 Axes>"
      ]
     },
     "metadata": {
      "needs_background": "light"
     },
     "output_type": "display_data"
    }
   ],
   "source": [
    "model_ad = Sequential()\n",
    "model_ad.add(layers.LSTM(64, input_shape=(sequences_ad.shape[1], sequences_ad.shape[2])))\n",
    "model_ad.add(layers.RepeatVector(sequences_ad.shape[1]))\n",
    "model_ad.add(layers.LSTM(64))\n",
    "model_ad.add(layers.Dense(sequences_ad.shape[1]))\n",
    "model_ad.compile(loss='mean_absolute_error', optimizer = 'adam')\n",
    "\n",
    "history = model_ad.fit(sequences_ad, sequences_ad, epochs=10)\n",
    "\n",
    "plt.plot(range(len(history.history['loss'])), history.history['loss'],  label='Training loss')\n",
    "plt.title('Training loss') \n",
    "plt.xlabel('Epochs')\n",
    "plt.ylabel('Loss') \n",
    "plt.legend()\n",
    "plt.show()"
   ]
  },
  {
   "cell_type": "markdown",
   "metadata": {
    "id": "tsjBKWldjgLf"
   },
   "source": [
    "### error calculation"
   ]
  },
  {
   "cell_type": "code",
   "execution_count": 27,
   "metadata": {},
   "outputs": [],
   "source": [
    "def get_errors(sequences):\n",
    "    print(\"getting errors\")\n",
    "    errors = []\n",
    "    for i in range(sequences.shape[0]):\n",
    "        print(\"\\r\" + str(int((i+1) / sequences.shape[0] * 100)) + \" %\", end=\"\")\n",
    "        error = 0\n",
    "        prediction = model_ad.predict(sequences[[i]])\n",
    "        for j in range(sequences.shape[1]):\n",
    "            error += abs(sequences[[i]][0][j][0] - prediction[0][j])\n",
    "        errors.append(error)\n",
    "    print(\"\\r100 %\")\n",
    "    return errors"
   ]
  },
  {
   "cell_type": "code",
   "execution_count": 28,
   "metadata": {
    "id": "Zfv4-Gcy-fLJ"
   },
   "outputs": [
    {
     "name": "stdout",
     "output_type": "stream",
     "text": [
      "getting errors\n",
      "100 %\n"
     ]
    }
   ],
   "source": [
    "errors = get_errors(sequences_ad_test)"
   ]
  },
  {
   "cell_type": "code",
   "execution_count": 29,
   "metadata": {
    "colab": {
     "base_uri": "https://localhost:8080/",
     "height": 295
    },
    "id": "CVv58dnaBVnj",
    "outputId": "2ed7b7c6-b21c-418c-da13-c8a33da550bb"
   },
   "outputs": [
    {
     "data": {
      "image/png": "[encoded data removed]",
      "text/plain": [
       "<Figure size 432x288 with 1 Axes>"
      ]
     },
     "metadata": {
      "needs_background": "light"
     },
     "output_type": "display_data"
    }
   ],
   "source": [
    "min = errors[0]\n",
    "max = errors[0]\n",
    "for i in range(len(errors)):\n",
    "  if errors[i] < min:\n",
    "    min = errors[i]\n",
    "  if errors[i] > max:\n",
    "    max = errors[i]\n",
    "threshold = ((max - min) / 10 * 8) + min\n",
    "plt.plot(range(len(errors)), errors,  label='Error')\n",
    "plt.axhline(threshold, color='r')\n",
    "plt.title('Error') \n",
    "plt.xlabel('Record')\n",
    "plt.ylabel('Loss') \n",
    "plt.legend()\n",
    "plt.show()"
   ]
  },
  {
   "cell_type": "markdown",
   "metadata": {
    "id": "4SrxHn_dgo99"
   },
   "source": [
    "### create a csv file where we write the off period. An off period is when the error of the autoencoder is higher than the 80% of the max error"
   ]
  },
  {
   "cell_type": "code",
   "execution_count": 31,
   "metadata": {
    "id": "EzavT8NahOod"
   },
   "outputs": [],
   "source": [
    "off_period = open(\"off_period.csv\", \"w\")\n",
    "off_period.write(\"patient, tsDate, off\\n\")\n",
    "for i in range(len(errors)):\n",
    "  if errors[i] > threshold:\n",
    "    off_period.write(str(test_ad.iloc[i+30]['patient']) + \",\" + str(test_ad.iloc[i+30]['tsDate']) + \", YES\\n\")\n",
    "off_period.close()"
   ]
  },
  {
   "cell_type": "code",
   "execution_count": null,
   "metadata": {},
   "outputs": [],
   "source": []
  }
 ],
 "metadata": {
  "colab": {
   "collapsed_sections": [],
   "name": "Progetto.ipynb",
   "provenance": []
  },
  "kernelspec": {
   "display_name": "Python 3 (ipykernel)",
   "language": "python",
   "name": "python3"
  },
  "language_info": {
   "codemirror_mode": {
    "name": "ipython",
    "version": 3
   },
   "file_extension": ".py",
   "mimetype": "text/x-python",
   "name": "python",
   "nbconvert_exporter": "python",
   "pygments_lexer": "ipython3",
   "version": "3.10.0"
  }
 },
 "nbformat": 4,
 "nbformat_minor": 1
}
